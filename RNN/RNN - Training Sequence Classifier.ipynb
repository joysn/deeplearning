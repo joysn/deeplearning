{
 "cells": [
  {
   "cell_type": "markdown",
   "metadata": {},
   "source": [
    "## Training a sequence classifier\n",
    "Note: the book uses tensorflow.contrib.layers.fully_connected() rather than tf.layers.dense() (which did not exist when this chapter was written). It is now preferable to use tf.layers.dense(), because anything in the contrib module may change or be deleted without notice. The dense() function is almost identical to the fully_connected() function. The main differences relevant to this chapter are:\n",
    "\n",
    "several parameters are renamed: scope becomes name, activation_fn becomes activation (and similarly the _fn suffix is removed from other parameters such as normalizer_fn), weights_initializer becomes kernel_initializer, etc.\n",
    "the default activation is now None rather than tf.nn.relu."
   ]
  },
  {
   "cell_type": "code",
   "execution_count": 2,
   "metadata": {},
   "outputs": [
    {
     "name": "stderr",
     "output_type": "stream",
     "text": [
      "D:\\Users\\snandan.ORADEV\\AppData\\Local\\Continuum\\anaconda3\\lib\\site-packages\\h5py\\__init__.py:36: FutureWarning: Conversion of the second argument of issubdtype from `float` to `np.floating` is deprecated. In future, it will be treated as `np.float64 == np.dtype(float).type`.\n",
      "  from ._conv import register_converters as _register_converters\n"
     ]
    }
   ],
   "source": [
    "from tensorflow_graph_in_jupyter import show_graph\n",
    "import numpy as np\n",
    "import tensorflow as tf"
   ]
  },
  {
   "cell_type": "code",
   "execution_count": 4,
   "metadata": {},
   "outputs": [],
   "source": [
    "#reset_graph()\n",
    "\n",
    "n_steps = 28\n",
    "n_inputs = 28\n",
    "n_neurons = 150\n",
    "n_outputs = 10\n",
    "\n",
    "learning_rate = 0.001\n",
    "\n",
    "X = tf.placeholder(tf.float32, [None, n_steps, n_inputs])\n",
    "y = tf.placeholder(tf.int32, [None])\n",
    "\n",
    "basic_cell = tf.nn.rnn_cell.BasicRNNCell(num_units=n_neurons)\n",
    "outputs, states = tf.nn.dynamic_rnn(basic_cell, X, dtype=tf.float32)\n",
    "\n",
    "logits = tf.layers.dense(states, n_outputs)\n",
    "xentropy = tf.nn.sparse_softmax_cross_entropy_with_logits(labels=y,\n",
    "                                                          logits=logits)\n",
    "loss = tf.reduce_mean(xentropy)\n",
    "optimizer = tf.train.AdamOptimizer(learning_rate=learning_rate)\n",
    "training_op = optimizer.minimize(loss)\n",
    "correct = tf.nn.in_top_k(logits, y, 1)\n",
    "accuracy = tf.reduce_mean(tf.cast(correct, tf.float32))\n",
    "\n",
    "init = tf.global_variables_initializer()"
   ]
  },
  {
   "cell_type": "code",
   "execution_count": 6,
   "metadata": {},
   "outputs": [
    {
     "name": "stdout",
     "output_type": "stream",
     "text": [
      "Downloading data from https://s3.amazonaws.com/img-datasets/mnist.npz\n",
      "11493376/11490434 [==============================] - 8s 1us/step\n"
     ]
    }
   ],
   "source": [
    "(X_train, y_train), (X_test, y_test) = tf.keras.datasets.mnist.load_data()\n",
    "X_train = X_train.astype(np.float32).reshape(-1, 28*28) / 255.0\n",
    "X_test = X_test.astype(np.float32).reshape(-1, 28*28) / 255.0\n",
    "y_train = y_train.astype(np.int32)\n",
    "y_test = y_test.astype(np.int32)\n",
    "X_valid, X_train = X_train[:5000], X_train[5000:]\n",
    "y_valid, y_train = y_train[:5000], y_train[5000:]"
   ]
  },
  {
   "cell_type": "code",
   "execution_count": 7,
   "metadata": {},
   "outputs": [],
   "source": [
    "def shuffle_batch(X, y, batch_size):\n",
    "    rnd_idx = np.random.permutation(len(X))\n",
    "    n_batches = len(X) // batch_size\n",
    "    for batch_idx in np.array_split(rnd_idx, n_batches):\n",
    "        X_batch, y_batch = X[batch_idx], y[batch_idx]\n",
    "        yield X_batch, y_batch"
   ]
  },
  {
   "cell_type": "code",
   "execution_count": 8,
   "metadata": {},
   "outputs": [],
   "source": [
    "X_test = X_test.reshape((-1, n_steps, n_inputs))"
   ]
  },
  {
   "cell_type": "code",
   "execution_count": 9,
   "metadata": {},
   "outputs": [
    {
     "name": "stdout",
     "output_type": "stream",
     "text": [
      "0 Last batch accuracy: 0.94 Test accuracy: 0.931\n",
      "1 Last batch accuracy: 0.97333336 Test accuracy: 0.9509\n",
      "2 Last batch accuracy: 0.94666666 Test accuracy: 0.9509\n",
      "3 Last batch accuracy: 0.96666664 Test accuracy: 0.9554\n",
      "4 Last batch accuracy: 0.98 Test accuracy: 0.9642\n",
      "5 Last batch accuracy: 0.9866667 Test accuracy: 0.9685\n",
      "6 Last batch accuracy: 0.9533333 Test accuracy: 0.9643\n",
      "7 Last batch accuracy: 0.9866667 Test accuracy: 0.9668\n",
      "8 Last batch accuracy: 0.9866667 Test accuracy: 0.9689\n",
      "9 Last batch accuracy: 0.99333334 Test accuracy: 0.9705\n",
      "10 Last batch accuracy: 0.9866667 Test accuracy: 0.9636\n",
      "11 Last batch accuracy: 0.98 Test accuracy: 0.9702\n",
      "12 Last batch accuracy: 0.99333334 Test accuracy: 0.9717\n",
      "13 Last batch accuracy: 0.99333334 Test accuracy: 0.9733\n",
      "14 Last batch accuracy: 0.9866667 Test accuracy: 0.9728\n",
      "15 Last batch accuracy: 0.9866667 Test accuracy: 0.9767\n",
      "16 Last batch accuracy: 0.9866667 Test accuracy: 0.9768\n",
      "17 Last batch accuracy: 0.98 Test accuracy: 0.9752\n",
      "18 Last batch accuracy: 0.99333334 Test accuracy: 0.9716\n",
      "19 Last batch accuracy: 1.0 Test accuracy: 0.9746\n",
      "20 Last batch accuracy: 0.97333336 Test accuracy: 0.973\n",
      "21 Last batch accuracy: 0.99333334 Test accuracy: 0.9741\n",
      "22 Last batch accuracy: 0.99333334 Test accuracy: 0.9763\n",
      "23 Last batch accuracy: 1.0 Test accuracy: 0.9789\n",
      "24 Last batch accuracy: 0.98 Test accuracy: 0.9767\n",
      "25 Last batch accuracy: 0.98 Test accuracy: 0.9768\n",
      "26 Last batch accuracy: 0.99333334 Test accuracy: 0.9722\n",
      "27 Last batch accuracy: 0.99333334 Test accuracy: 0.9763\n",
      "28 Last batch accuracy: 0.98 Test accuracy: 0.981\n",
      "29 Last batch accuracy: 1.0 Test accuracy: 0.9744\n",
      "30 Last batch accuracy: 0.99333334 Test accuracy: 0.9781\n",
      "31 Last batch accuracy: 0.98 Test accuracy: 0.9746\n",
      "32 Last batch accuracy: 1.0 Test accuracy: 0.9762\n",
      "33 Last batch accuracy: 0.98 Test accuracy: 0.9762\n",
      "34 Last batch accuracy: 0.99333334 Test accuracy: 0.9786\n",
      "35 Last batch accuracy: 0.99333334 Test accuracy: 0.9789\n",
      "36 Last batch accuracy: 1.0 Test accuracy: 0.9762\n",
      "37 Last batch accuracy: 0.96666664 Test accuracy: 0.9785\n",
      "38 Last batch accuracy: 0.9866667 Test accuracy: 0.9786\n",
      "39 Last batch accuracy: 0.9866667 Test accuracy: 0.9773\n",
      "40 Last batch accuracy: 0.98 Test accuracy: 0.974\n",
      "41 Last batch accuracy: 1.0 Test accuracy: 0.9798\n",
      "42 Last batch accuracy: 0.99333334 Test accuracy: 0.9752\n",
      "43 Last batch accuracy: 0.9866667 Test accuracy: 0.9773\n",
      "44 Last batch accuracy: 1.0 Test accuracy: 0.9743\n",
      "45 Last batch accuracy: 0.9866667 Test accuracy: 0.9779\n",
      "46 Last batch accuracy: 0.98 Test accuracy: 0.9673\n",
      "47 Last batch accuracy: 1.0 Test accuracy: 0.9797\n",
      "48 Last batch accuracy: 0.99333334 Test accuracy: 0.9773\n",
      "49 Last batch accuracy: 0.99333334 Test accuracy: 0.9783\n",
      "50 Last batch accuracy: 0.9866667 Test accuracy: 0.9791\n",
      "51 Last batch accuracy: 0.99333334 Test accuracy: 0.9724\n",
      "52 Last batch accuracy: 0.9866667 Test accuracy: 0.978\n",
      "53 Last batch accuracy: 1.0 Test accuracy: 0.9784\n",
      "54 Last batch accuracy: 0.9866667 Test accuracy: 0.9786\n",
      "55 Last batch accuracy: 0.99333334 Test accuracy: 0.9743\n",
      "56 Last batch accuracy: 0.9866667 Test accuracy: 0.9778\n",
      "57 Last batch accuracy: 0.99333334 Test accuracy: 0.9758\n",
      "58 Last batch accuracy: 0.9866667 Test accuracy: 0.9802\n",
      "59 Last batch accuracy: 0.99333334 Test accuracy: 0.9792\n",
      "60 Last batch accuracy: 1.0 Test accuracy: 0.9789\n",
      "61 Last batch accuracy: 1.0 Test accuracy: 0.9747\n",
      "62 Last batch accuracy: 1.0 Test accuracy: 0.977\n",
      "63 Last batch accuracy: 0.99333334 Test accuracy: 0.9728\n",
      "64 Last batch accuracy: 1.0 Test accuracy: 0.9765\n",
      "65 Last batch accuracy: 0.99333334 Test accuracy: 0.9784\n",
      "66 Last batch accuracy: 1.0 Test accuracy: 0.9795\n",
      "67 Last batch accuracy: 0.9866667 Test accuracy: 0.9752\n",
      "68 Last batch accuracy: 0.9866667 Test accuracy: 0.9788\n",
      "69 Last batch accuracy: 0.99333334 Test accuracy: 0.9763\n",
      "70 Last batch accuracy: 0.9866667 Test accuracy: 0.9752\n",
      "71 Last batch accuracy: 0.9866667 Test accuracy: 0.9727\n",
      "72 Last batch accuracy: 1.0 Test accuracy: 0.9721\n",
      "73 Last batch accuracy: 1.0 Test accuracy: 0.9777\n",
      "74 Last batch accuracy: 0.9866667 Test accuracy: 0.9783\n",
      "75 Last batch accuracy: 0.99333334 Test accuracy: 0.978\n",
      "76 Last batch accuracy: 0.99333334 Test accuracy: 0.9785\n",
      "77 Last batch accuracy: 0.98 Test accuracy: 0.9765\n",
      "78 Last batch accuracy: 0.99333334 Test accuracy: 0.981\n",
      "79 Last batch accuracy: 0.98 Test accuracy: 0.9764\n",
      "80 Last batch accuracy: 0.98 Test accuracy: 0.9797\n",
      "81 Last batch accuracy: 1.0 Test accuracy: 0.9768\n",
      "82 Last batch accuracy: 0.9866667 Test accuracy: 0.9759\n",
      "83 Last batch accuracy: 1.0 Test accuracy: 0.9798\n",
      "84 Last batch accuracy: 1.0 Test accuracy: 0.9772\n",
      "85 Last batch accuracy: 1.0 Test accuracy: 0.9775\n",
      "86 Last batch accuracy: 0.9866667 Test accuracy: 0.9791\n",
      "87 Last batch accuracy: 1.0 Test accuracy: 0.9785\n",
      "88 Last batch accuracy: 0.99333334 Test accuracy: 0.9788\n",
      "89 Last batch accuracy: 0.99333334 Test accuracy: 0.9783\n",
      "90 Last batch accuracy: 0.9866667 Test accuracy: 0.977\n",
      "91 Last batch accuracy: 0.99333334 Test accuracy: 0.9769\n",
      "92 Last batch accuracy: 0.99333334 Test accuracy: 0.9779\n",
      "93 Last batch accuracy: 0.99333334 Test accuracy: 0.9772\n",
      "94 Last batch accuracy: 1.0 Test accuracy: 0.9756\n",
      "95 Last batch accuracy: 0.99333334 Test accuracy: 0.9796\n",
      "96 Last batch accuracy: 0.99333334 Test accuracy: 0.9764\n",
      "97 Last batch accuracy: 0.97333336 Test accuracy: 0.9688\n",
      "98 Last batch accuracy: 0.99333334 Test accuracy: 0.979\n",
      "99 Last batch accuracy: 1.0 Test accuracy: 0.9781\n"
     ]
    }
   ],
   "source": [
    "n_epochs = 100\n",
    "batch_size = 150\n",
    "\n",
    "with tf.Session() as sess:\n",
    "    init.run()\n",
    "    for epoch in range(n_epochs):\n",
    "        for X_batch, y_batch in shuffle_batch(X_train, y_train, batch_size):\n",
    "            X_batch = X_batch.reshape((-1, n_steps, n_inputs))\n",
    "            sess.run(training_op, feed_dict={X: X_batch, y: y_batch})\n",
    "        acc_batch = accuracy.eval(feed_dict={X: X_batch, y: y_batch})\n",
    "        acc_test = accuracy.eval(feed_dict={X: X_test, y: y_test})\n",
    "        print(epoch, \"Last batch accuracy:\", acc_batch, \"Test accuracy:\", acc_test)"
   ]
  }
 ],
 "metadata": {
  "kernelspec": {
   "display_name": "Python 3",
   "language": "python",
   "name": "python3"
  },
  "language_info": {
   "codemirror_mode": {
    "name": "ipython",
    "version": 3
   },
   "file_extension": ".py",
   "mimetype": "text/x-python",
   "name": "python",
   "nbconvert_exporter": "python",
   "pygments_lexer": "ipython3",
   "version": "3.6.5"
  }
 },
 "nbformat": 4,
 "nbformat_minor": 2
}
